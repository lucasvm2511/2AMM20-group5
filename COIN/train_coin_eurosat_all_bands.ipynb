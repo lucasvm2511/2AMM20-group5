{
 "cells": [
  {
   "cell_type": "code",
   "execution_count": 1,
   "id": "2ad42abb-6c1f-43e4-b94c-8aea082c788c",
   "metadata": {},
   "outputs": [
    {
     "name": "stdout",
     "output_type": "stream",
     "text": [
      "Using MPS device\n"
     ]
    }
   ],
   "source": [
    "import torch\n",
    "from torch.utils.data import DataLoader\n",
    "from torchvision.transforms import Compose, Normalize\n",
    "\n",
    "from src.data import EuroSATAllBands\n",
    "from src.model import Siren\n",
    "from src.utils import *\n",
    "\n",
    "if torch.cuda.is_available():\n",
    "    device = torch.device(\"cuda\")\n",
    "    print(\"Using CUDA device\")\n",
    "if torch.backends.mps.is_available():\n",
    "    device = torch.device(\"mps\")\n",
    "    print(\"Using MPS device\")\n",
    "else:\n",
    "    device = torch.device(\"cpu\")\n",
    "    print(\"Using CPU device\")\n",
    "\n",
    "IMAGE_SIZE = 64\n",
    "DATA_DIR = \"data/EuroSATallBands\""
   ]
  },
  {
   "cell_type": "code",
   "execution_count": 2,
   "id": "7b5b9aac-9ebb-429b-85d9-1d06d639f216",
   "metadata": {},
   "outputs": [
    {
     "name": "stderr",
     "output_type": "stream",
     "text": [
      "/Users/sviatoslavgladkykh/miniconda/envs/myenv/lib/python3.10/site-packages/torch/functional.py:507: UserWarning: torch.meshgrid: in an upcoming release, it will be required to pass the indexing argument. (Triggered internally at /Users/runner/work/pytorch/pytorch/pytorch/aten/src/ATen/native/TensorShape.cpp:3550.)\n",
      "  return _VF.meshgrid(tensors, **kwargs)  # type: ignore[attr-defined]\n"
     ]
    }
   ],
   "source": [
    "means = [1353.4440, 1115.2527, 1033.7759, 935.1631, 1180.9276, 1966.8143, 2329.8030, 2257.3333,  722.7522,   13.1261, 1781.4470, 1098.1393, 2546.6523]\n",
    "stds = [63.9742, 150.7762, 183.9667, 272.4519, 223.1591, 348.4093, 445.4806, 519.6234,  96.9965,   1.1972, 370.0003, 296.7262, 491.4442]\n",
    "\n",
    "transform = Compose([\n",
    "    Normalize(means, stds)\n",
    "])\n",
    "\n",
    "dataset = EuroSATAllBands(root_dir=DATA_DIR, transform=transform)\n",
    "dataloader = DataLoader(dataset, batch_size=1, pin_memory=True, num_workers=0, shuffle=True)"
   ]
  },
  {
   "cell_type": "code",
   "execution_count": 3,
   "id": "ac863e46-41bd-4815-a67f-6968d65fb399",
   "metadata": {},
   "outputs": [],
   "source": [
    "def train_siren(model, model_input, ground_truth):\n",
    "    # Model Parameters\n",
    "    total_steps = 10_000\n",
    "    steps_til_summary = 100\n",
    "    \n",
    "    # Early stopping parameters\n",
    "    patience = 10\n",
    "    min_delta = 1e-4\n",
    "\n",
    "    optim = torch.optim.Adam(lr=1e-3, params=model.parameters())\n",
    "\n",
    "    best_loss = float('inf')\n",
    "    steps_since_improvement = 0\n",
    "\n",
    "    for step in range(total_steps):\n",
    "        model_output, coords = model(model_input)    \n",
    "        loss = ((model_output - ground_truth) ** 2).mean()\n",
    "        \n",
    "        if loss + min_delta < best_loss:\n",
    "            best_loss = loss\n",
    "            steps_since_improvement = 0\n",
    "        else:\n",
    "            steps_since_improvement += 1\n",
    "    \n",
    "        if steps_since_improvement >= patience:\n",
    "            print(f\"Stopping early at step {step} due to no improvement.\")\n",
    "            break\n",
    "        \n",
    "        optim.zero_grad()\n",
    "        loss.backward()\n",
    "        optim.step()\n"
   ]
  },
  {
   "metadata": {},
   "cell_type": "code",
   "outputs": [],
   "execution_count": null,
   "source": [
    "all_qualities = []\n",
    "all_sizes = []\n",
    "\n",
    "counter = 0\n",
    "for x, y in dataloader:\n",
    "    qualities = []\n",
    "    sizes = []\n",
    "\n",
    "    for n_hidden in range(2, 101, 2):\n",
    "\n",
    "        model = Siren(in_features=2,\n",
    "                      out_features=13,\n",
    "                      hidden_features=n_hidden,\n",
    "                      hidden_layers=1,\n",
    "                      outermost_linear=True).to(device)\n",
    "\n",
    "\n",
    "        model_input, ground_truth = x.to(device), y.to(device)\n",
    "        train_siren(model, model_input, ground_truth.to(device))\n",
    "\n",
    "        compressed = postprocess_model_output(model(model_input)[0])\n",
    "        real = postprocess_model_output(ground_truth)\n",
    "\n",
    "        quality = psnr(compressed, real).item()\n",
    "        bits_per_pixel = bpp(model)\n",
    "        # n_params = sum(p.numel() for p in model.parameters())\n",
    "\n",
    "        qualities.append(quality)\n",
    "        sizes.append(bits_per_pixel)\n",
    "\n",
    "        show_image(model(model_input)[0].cpu().detach())\n",
    "        show_image(ground_truth.cpu().detach())\n",
    "\n",
    "    all_qualities.append(qualities)\n",
    "    all_sizes.append(sizes)\n",
    "\n",
    "    counter += 1\n",
    "    if counter == 1:\n",
    "        break"
   ],
   "id": "31641c7157ed48b5"
  }
 ],
 "metadata": {
  "kernelspec": {
   "display_name": "Python 3 (ipykernel)",
   "language": "python",
   "name": "python3"
  },
  "language_info": {
   "codemirror_mode": {
    "name": "ipython",
    "version": 3
   },
   "file_extension": ".py",
   "mimetype": "text/x-python",
   "name": "python",
   "nbconvert_exporter": "python",
   "pygments_lexer": "ipython3",
   "version": "3.10.14"
  }
 },
 "nbformat": 4,
 "nbformat_minor": 5
}
