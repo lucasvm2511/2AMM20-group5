{
 "cells": [
  {
   "cell_type": "code",
   "execution_count": 1,
   "id": "b08d3140-8571-4640-adec-75c008e71aee",
   "metadata": {},
   "outputs": [
    {
     "name": "stdout",
     "output_type": "stream",
     "text": [
      "Using MPS device\n"
     ]
    }
   ],
   "source": [
    "import torch\n",
    "from torch.utils.data import DataLoader\n",
    "from torchvision.transforms import Compose, Resize, ToTensor, Normalize\n",
    "\n",
    "from src.data import Sentinel2DatasetRGB\n",
    "from src.model import Siren\n",
    "from src.utils import postprocess_model_output, psnr, show_image, bpp\n",
    "\n",
    "if torch.cuda.is_available():\n",
    "    device = torch.device(\"cuda\")\n",
    "    print(\"Using CUDA device\")\n",
    "if torch.backends.mps.is_available():\n",
    "    device = torch.device(\"mps\")\n",
    "    print(\"Using MPS device\")\n",
    "else:\n",
    "    device = torch.device(\"cpu\")\n",
    "    print(\"Using CPU device\")\n",
    "\n",
    "IMAGE_SIZE = 64\n",
    "DATA_DIR = \"archive/EuroSAT\""
   ]
  },
  {
   "cell_type": "code",
   "execution_count": 2,
   "id": "71009736-5f21-4894-82b9-ff33b8a70b2e",
   "metadata": {},
   "outputs": [
    {
     "name": "stderr",
     "output_type": "stream",
     "text": [
      "/Users/sviatoslavgladkykh/miniconda/envs/myenv/lib/python3.10/site-packages/torch/functional.py:507: UserWarning: torch.meshgrid: in an upcoming release, it will be required to pass the indexing argument. (Triggered internally at /Users/runner/work/pytorch/pytorch/pytorch/aten/src/ATen/native/TensorShape.cpp:3550.)\n",
      "  return _VF.meshgrid(tensors, **kwargs)  # type: ignore[attr-defined]\n"
     ]
    }
   ],
   "source": [
    "transform = Compose([\n",
    "    Resize((IMAGE_SIZE, IMAGE_SIZE)),\n",
    "    ToTensor(),\n",
    "    Normalize([0.5, 0.5, 0.5], [0.5, 0.5, 0.5])\n",
    "])\n",
    "\n",
    "dataset = Sentinel2DatasetRGB(root_dir=DATA_DIR, transform=transform)\n",
    "dataloader = DataLoader(dataset, batch_size=1, pin_memory=True, num_workers=0, shuffle=True)"
   ]
  },
  {
   "cell_type": "code",
   "execution_count": 3,
   "id": "b6fe194a-a688-4724-8ac1-e33f42ba6e1e",
   "metadata": {},
   "outputs": [],
   "source": [
    "def train_siren(model, model_input, ground_truth):\n",
    "    # Model Parameters\n",
    "    total_steps = 10_000\n",
    "    steps_til_summary = 100\n",
    "    \n",
    "    # Early stopping parameters\n",
    "    patience = 10\n",
    "    min_delta = 1e-4\n",
    "\n",
    "    optim = torch.optim.Adam(lr=1e-3, params=model.parameters())\n",
    "\n",
    "    best_loss = float('inf')\n",
    "    steps_since_improvement = 0\n",
    "\n",
    "    for step in range(total_steps):\n",
    "        model_output, coords = model(model_input)    \n",
    "        loss = ((model_output - ground_truth) ** 2).mean()\n",
    "        \n",
    "        if loss + min_delta < best_loss:\n",
    "            best_loss = loss\n",
    "            steps_since_improvement = 0\n",
    "        else:\n",
    "            steps_since_improvement += 1\n",
    "    \n",
    "        if steps_since_improvement >= patience:\n",
    "            print(f\"Stopping early at step {step} due to no improvement.\")\n",
    "            break\n",
    "        \n",
    "        optim.zero_grad()\n",
    "        loss.backward()\n",
    "        optim.step()\n"
   ]
  },
  {
   "cell_type": "code",
   "execution_count": null,
   "id": "4e1c220b-df31-48f4-976a-d7d24d5f9179",
   "metadata": {},
   "outputs": [],
   "source": [
    "all_qualities = []\n",
    "all_sizes = []\n",
    "\n",
    "counter = 0\n",
    "for x, y in dataloader:\n",
    "    qualities = []\n",
    "    sizes = []\n",
    "\n",
    "    for n_hidden in range(2, 101, 2):\n",
    "        \n",
    "        model = Siren(in_features=2,\n",
    "                      out_features=3,\n",
    "                      hidden_features=n_hidden, \n",
    "                      hidden_layers=1,\n",
    "                      outermost_linear=True).to(device)\n",
    "        \n",
    "        \n",
    "        model_input, ground_truth = x.to(device), y.to(device)\n",
    "        train_siren(model, model_input, ground_truth.to(device))\n",
    "    \n",
    "        compressed = postprocess_model_output(model(model_input)[0])\n",
    "        real = postprocess_model_output(ground_truth)\n",
    "    \n",
    "        quality = psnr(compressed, real).item()\n",
    "        bits_per_pixel = bpp(model) \n",
    "        # n_params = sum(p.numel() for p in model.parameters())\n",
    "    \n",
    "        qualities.append(quality)\n",
    "        sizes.append(bits_per_pixel)\n",
    "\n",
    "    all_qualities.append(qualities)\n",
    "    all_sizes.append(sizes)\n",
    "    \n",
    "    counter += 1 \n",
    "    if counter == 100:\n",
    "        break"
   ]
  },
  {
   "cell_type": "code",
   "execution_count": null,
   "id": "060c6cd0-d07d-456b-96d4-effab6f0eaa8",
   "metadata": {},
   "outputs": [],
   "source": ""
  }
 ],
 "metadata": {
  "kernelspec": {
   "display_name": "Python 3 (ipykernel)",
   "language": "python",
   "name": "python3"
  },
  "language_info": {
   "codemirror_mode": {
    "name": "ipython",
    "version": 3
   },
   "file_extension": ".py",
   "mimetype": "text/x-python",
   "name": "python",
   "nbconvert_exporter": "python",
   "pygments_lexer": "ipython3",
   "version": "3.10.14"
  }
 },
 "nbformat": 4,
 "nbformat_minor": 5
}
