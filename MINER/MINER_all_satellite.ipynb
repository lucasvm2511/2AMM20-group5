{
 "cells": [
  {
   "cell_type": "code",
   "execution_count": 1,
   "metadata": {},
   "outputs": [
    {
     "name": "stderr",
     "output_type": "stream",
     "text": [
      "c:\\Users\\mgjfl\\miniconda3\\envs\\miner\\lib\\site-packages\\h5py\\__init__.py:36: UserWarning: h5py is running against HDF5 1.12.2 when it was built against 1.12.0, this may cause problems\n",
      "  _warn((\"h5py is running against HDF5 {0} when it was built against {1}, \"\n"
     ]
    },
    {
     "name": "stdout",
     "output_type": "stream",
     "text": [
      "Jupyter environment detected. Enabling Open3D WebVisualizer.\n",
      "[Open3D INFO] WebRTC GUI backend enabled.\n",
      "[Open3D INFO] WebRTCWindowSystem: HTTP handshake server disabled.\n"
     ]
    },
    {
     "data": {
      "text/plain": [
       "<Figure size 640x480 with 0 Axes>"
      ]
     },
     "metadata": {},
     "output_type": "display_data"
    }
   ],
   "source": [
    "import sys\n",
    "sys.path.append('modules')\n",
    "\n",
    "from data_utils import *\n",
    "import copy"
   ]
  },
  {
   "cell_type": "markdown",
   "metadata": {},
   "source": [
    "Initial setup"
   ]
  },
  {
   "cell_type": "code",
   "execution_count": 2,
   "metadata": {},
   "outputs": [],
   "source": [
    "# Image configuration\n",
    "only_rgb = True\n",
    "\n",
    "if only_rgb:\n",
    "    config_type = \"satellite_rgb\"\n",
    "    visualization_channels = None\n",
    "else:\n",
    "    config_type = \"satellite\"\n",
    "    \n",
    "    # Visualize intermediate results\n",
    "    visualization_channels = TRUE_COLOR\n",
    "    \n",
    "base_config = read_config(config_type = config_type, nscales = 6)\n",
    "\n",
    "# Read all the images\n",
    "configs, images = readAllSatellite(configuration=base_config, satellite_part=1, only_rgb = only_rgb)\n",
    "\n",
    "# Stopping criterions\n",
    "stopping_mse = 1e-6\n",
    "target_mse = 1e-6"
   ]
  },
  {
   "cell_type": "markdown",
   "metadata": {},
   "source": [
    "Run MINER"
   ]
  },
  {
   "cell_type": "code",
   "execution_count": 3,
   "metadata": {},
   "outputs": [
    {
     "name": "stderr",
     "output_type": "stream",
     "text": [
      "  0%|          | 0/6 [00:00<?, ?it/s]"
     ]
    },
    {
     "name": "stdout",
     "output_type": "stream",
     "text": [
      "Starting image 1/6\n"
     ]
    },
    {
     "name": "stderr",
     "output_type": "stream",
     "text": [
      " 17%|█▋        | 1/6 [00:02<00:11,  2.20s/it]\n",
      "\u001b[A\n",
      "\n",
      "[253/256 | 0.00 GB| 1.1931e-03]:  25%|██▍       | 124/500 [00:02<00:06, 56.34it/s]\n",
      " 33%|███▎      | 2/6 [00:03<00:07,  1.84s/it]\n",
      "\u001b[A\n",
      "\n",
      "[69/1024 | 0.00 GB| 9.4811e-04]:  40%|████      | 201/500 [00:01<00:01, 198.42it/s]\n",
      " 50%|█████     | 3/6 [00:04<00:04,  1.56s/it]\n",
      "\u001b[A\n",
      "\n",
      "[378/4096 | 0.00 GB| 5.8939e-04]:  34%|███▍      | 172/500 [00:00<00:01, 191.33it/s]\n",
      " 67%|██████▋   | 4/6 [00:04<00:02,  1.29s/it]\n",
      "\u001b[A\n",
      "\n",
      "[1353/16384 | 0.00 GB| 3.2157e-04]:  26%|██▌       | 131/500 [00:00<00:01, 199.41it/s]\n",
      " 83%|████████▎ | 5/6 [00:05<00:01,  1.08s/it]\n",
      "\u001b[A\n",
      "\n",
      "[4469/65536 | 0.00 GB| 1.7176e-04]:  14%|█▍        | 69/500 [00:00<00:03, 111.85it/s]\n",
      "[15041/262144 | 0.00 GB| 6.6147e-05]: 100%|██████████| 500/500 [00:05<00:00, 89.58it/s]\n",
      "100%|██████████| 6/6 [00:11<00:00,  1.84s/it]\n",
      "  0%|          | 0/6 [00:00<?, ?it/s]\n"
     ]
    },
    {
     "name": "stdout",
     "output_type": "stream",
     "text": [
      "Total time 0.19 minutes\n",
      "PSNR:  41.79498796272036\n",
      "Total pararmeters: 0.49 million\n",
      "Starting image 2/6\n"
     ]
    },
    {
     "name": "stderr",
     "output_type": "stream",
     "text": [
      " 17%|█▋        | 1/6 [00:01<00:08,  1.78s/it]   | 21/500 [00:00<00:02, 203.13it/s]\u001b[A\n",
      "\u001b[A\n",
      "\n",
      "[227/256 | 0.00 GB| 5.1637e-03]:  74%|███████▍  | 372/500 [00:01<00:00, 208.20it/s]\n",
      " 33%|███▎      | 2/6 [00:02<00:06,  1.53s/it]\n",
      "\u001b[A\n",
      "\n",
      "[667/1024 | 0.00 GB| 2.9174e-03]:  33%|███▎      | 167/500 [00:00<00:01, 179.96it/s]\n",
      " 50%|█████     | 3/6 [00:03<00:03,  1.29s/it]\n",
      "\u001b[A\n",
      "\n",
      "[2025/4096 | 0.00 GB| 1.4963e-03]:  21%|██        | 103/500 [00:00<00:02, 139.35it/s]\n",
      " 67%|██████▋   | 4/6 [00:04<00:02,  1.09s/it]\n",
      "\u001b[A\n",
      "\n",
      "[6248/16384 | 0.00 GB| 6.9306e-04]:  12%|█▏        | 59/500 [00:00<00:04, 95.50it/s] \n",
      " 83%|████████▎ | 5/6 [00:04<00:00,  1.05it/s]\n",
      "\u001b[A\n",
      "\n",
      "[17165/65536 | 0.00 GB| 3.1996e-04]:   8%|▊         | 41/500 [00:00<00:07, 63.52it/s]\n",
      "[45959/262144 | 0.00 GB| 1.2466e-04]: 100%|██████████| 500/500 [00:13<00:00, 37.61it/s]\n",
      "100%|██████████| 6/6 [00:18<00:00,  3.02s/it]\n",
      "  0%|          | 0/6 [00:00<?, ?it/s]\n"
     ]
    },
    {
     "name": "stdout",
     "output_type": "stream",
     "text": [
      "Total time 0.30 minutes\n",
      "PSNR:  39.04041251545649\n",
      "Total pararmeters: 1.55 million\n",
      "Starting image 3/6\n"
     ]
    },
    {
     "name": "stderr",
     "output_type": "stream",
     "text": [
      " 17%|█▋        | 1/6 [00:00<00:04,  1.07it/s]   | 21/500 [00:00<00:02, 207.91it/s]\u001b[A\n",
      "\u001b[A\n",
      "\n",
      "[242/256 | 0.00 GB| 1.3696e-03]:  34%|███▍      | 172/500 [00:00<00:01, 184.34it/s]\n",
      " 33%|███▎      | 2/6 [00:02<00:03,  1.01it/s]\n",
      "\u001b[A\n",
      "\n",
      "[124/1024 | 0.00 GB| 9.1447e-04]:  43%|████▎     | 217/500 [00:01<00:01, 191.16it/s]\n",
      " 50%|█████     | 3/6 [00:02<00:02,  1.12it/s]\n",
      "\u001b[A\n",
      "\n",
      "[592/4096 | 0.00 GB| 5.3130e-04]:  24%|██▍       | 121/500 [00:00<00:02, 183.79it/s]\n",
      " 67%|██████▋   | 4/6 [00:03<00:01,  1.20it/s]\n",
      "\u001b[A\n",
      "\n",
      "[1760/16384 | 0.00 GB| 2.9300e-04]:  19%|█▉        | 95/500 [00:00<00:02, 135.10it/s]\n",
      " 83%|████████▎ | 5/6 [00:04<00:00,  1.27it/s]\n",
      "\u001b[A\n",
      "\n",
      "[5390/65536 | 0.00 GB| 1.5941e-04]:  12%|█▏        | 59/500 [00:00<00:05, 84.53it/s]\n",
      "[16432/262144 | 0.00 GB| 7.1626e-05]: 100%|██████████| 500/500 [00:06<00:00, 74.46it/s]\n",
      "100%|██████████| 6/6 [00:10<00:00,  1.82s/it]\n",
      "  0%|          | 0/6 [00:00<?, ?it/s]\n"
     ]
    },
    {
     "name": "stdout",
     "output_type": "stream",
     "text": [
      "Total time 0.18 minutes\n",
      "PSNR:  41.45280849163115\n",
      "Total pararmeters: 0.55 million\n",
      "Starting image 4/6\n"
     ]
    },
    {
     "name": "stderr",
     "output_type": "stream",
     "text": [
      " 17%|█▋        | 1/6 [00:00<00:01,  3.56it/s]   | 19/500 [00:00<00:02, 189.76it/s]\u001b[A\n",
      "\u001b[A\n",
      "\n",
      "[256/256 | 0.00 GB| 7.2553e-05]:   8%|▊         | 38/500 [00:00<00:03, 134.47it/s]\n",
      "\n",
      "\u001b[A\n",
      "\n",
      "[2/1024 | 0.00 GB| 7.2277e-05]:   0%|          | 0/500 [00:00<?, ?it/s]\n",
      " 50%|█████     | 3/6 [00:00<00:00,  3.98it/s]\n",
      "\u001b[A\n",
      "\n",
      "[22/4096 | 0.00 GB| 6.7743e-05]:   7%|▋         | 37/500 [00:00<00:03, 118.19it/s]\n",
      " 67%|██████▋   | 4/6 [00:00<00:00,  3.57it/s]\n",
      "\u001b[A\n",
      "\n",
      "[155/16384 | 0.00 GB| 5.9215e-05]:  11%|█         | 56/500 [00:00<00:02, 160.00it/s]\n",
      " 83%|████████▎ | 5/6 [00:01<00:00,  3.04it/s]\n",
      "\u001b[A\n",
      "\n",
      "[550/65536 | 0.00 GB| 5.2186e-05]:  11%|█         | 54/500 [00:00<00:03, 119.34it/s]\n",
      "[3562/262144 | 0.00 GB| 3.5589e-05]: 100%|██████████| 500/500 [00:03<00:00, 157.45it/s]\n",
      "100%|██████████| 6/6 [00:04<00:00,  1.28it/s]\n",
      "  0%|          | 0/6 [00:00<?, ?it/s]\n",
      "[256/256 | 0.00 GB| 1.8801e-01]:   4%|▍         | 20/500 [00:00<00:02, 190.49it/s]"
     ]
    },
    {
     "name": "stdout",
     "output_type": "stream",
     "text": [
      "Total time 0.08 minutes\n",
      "PSNR:  44.48678734655708\n",
      "Total pararmeters: 0.12 million\n",
      "Starting image 5/6\n"
     ]
    },
    {
     "name": "stderr",
     "output_type": "stream",
     "text": [
      "[256/256 | 0.00 GB| 1.1822e-03]: 100%|██████████| 500/500 [00:02<00:00, 190.65it/s]\n",
      " 33%|███▎      | 2/6 [00:03<00:08,  2.01s/it]\n",
      "\u001b[A\n",
      "\n",
      "[316/1024 | 0.00 GB| 7.9708e-04]:  16%|█▋        | 82/500 [00:00<00:02, 153.21it/s]\n",
      " 50%|█████     | 3/6 [00:03<00:04,  1.54s/it]\n",
      "\u001b[A\n",
      "\n",
      "[865/4096 | 0.00 GB| 5.6277e-04]:  15%|█▍        | 74/500 [00:00<00:02, 163.13it/s]\n",
      " 67%|██████▋   | 4/6 [00:04<00:02,  1.23s/it]\n",
      "\u001b[A\n",
      "\n",
      "[2612/16384 | 0.00 GB| 4.0871e-04]:  12%|█▏        | 58/500 [00:00<00:03, 112.24it/s]\n",
      " 83%|████████▎ | 5/6 [00:04<00:01,  1.05s/it]\n",
      "\u001b[A\n",
      "\n",
      "[8575/65536 | 0.00 GB| 2.9342e-04]:   8%|▊         | 41/500 [00:00<00:06, 65.58it/s]\n",
      "[41576/262144 | 0.00 GB| 1.4545e-04]: 100%|██████████| 500/500 [00:12<00:00, 39.21it/s]\n",
      "100%|██████████| 6/6 [00:17<00:00,  2.94s/it]\n",
      "  0%|          | 0/6 [00:00<?, ?it/s]\n"
     ]
    },
    {
     "name": "stdout",
     "output_type": "stream",
     "text": [
      "Total time 0.29 minutes\n",
      "PSNR:  38.371615393943415\n",
      "Total pararmeters: 1.17 million\n",
      "Starting image 6/6\n"
     ]
    },
    {
     "name": "stderr",
     "output_type": "stream",
     "text": [
      " 17%|█▋        | 1/6 [00:00<00:01,  2.66it/s]   | 19/500 [00:00<00:02, 184.48it/s]\u001b[A\n",
      "\u001b[A\n",
      "\n",
      "[256/256 | 0.00 GB| 6.2046e-04]:  11%|█▏        | 57/500 [00:00<00:02, 151.16it/s]\n",
      " 33%|███▎      | 2/6 [00:00<00:01,  2.44it/s]\n",
      "\u001b[A\n",
      "\n",
      "[54/1024 | 0.00 GB| 5.4613e-04]:  16%|█▌        | 78/500 [00:00<00:02, 158.94it/s]\n",
      " 50%|█████     | 3/6 [00:01<00:01,  2.12it/s]\n",
      "\u001b[A\n",
      "\n",
      "[241/4096 | 0.00 GB| 4.1153e-04]:  21%|██        | 103/500 [00:00<00:02, 167.55it/s]\n",
      " 67%|██████▋   | 4/6 [00:02<00:00,  2.02it/s]\n",
      "\u001b[A\n",
      "\n",
      "[1115/16384 | 0.00 GB| 2.7081e-04]:  20%|█▉        | 99/500 [00:00<00:02, 179.27it/s]\n",
      " 83%|████████▎ | 5/6 [00:02<00:00,  1.91it/s]\n",
      "\u001b[A\n",
      "\n",
      "[4177/65536 | 0.00 GB| 1.8322e-04]:  12%|█▏        | 58/500 [00:00<00:04, 95.92it/s] \n",
      "[19833/262144 | 0.00 GB| 8.7747e-05]: 100%|██████████| 500/500 [00:06<00:00, 71.51it/s]\n",
      "100%|██████████| 6/6 [00:09<00:00,  1.62s/it]\n"
     ]
    },
    {
     "name": "stdout",
     "output_type": "stream",
     "text": [
      "Total time 0.16 minutes\n",
      "PSNR:  40.56784962340195\n",
      "Total pararmeters: 0.58 million\n"
     ]
    }
   ],
   "source": [
    "for i, image in enumerate(images):\n",
    "    print(f\"Starting image {i + 1}/{len(images)}\")\n",
    "    run_miner(image, configs[i], visualize_image = False, visualization_channels=visualization_channels, stopping_mse=stopping_mse, target_mse=target_mse)"
   ]
  },
  {
   "cell_type": "code",
   "execution_count": null,
   "metadata": {},
   "outputs": [],
   "source": []
  }
 ],
 "metadata": {
  "kernelspec": {
   "display_name": "miner",
   "language": "python",
   "name": "python3"
  },
  "language_info": {
   "codemirror_mode": {
    "name": "ipython",
    "version": 3
   },
   "file_extension": ".py",
   "mimetype": "text/x-python",
   "name": "python",
   "nbconvert_exporter": "python",
   "pygments_lexer": "ipython3",
   "version": "3.9.20"
  }
 },
 "nbformat": 4,
 "nbformat_minor": 2
}
